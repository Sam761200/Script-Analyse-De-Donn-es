# Importation des bibliothèques nécessaires
import pandas as pd
import matplotlib.pyplot as plt
import seaborn as sns

# Chargement des données depuis un fichier CSV
# Remplace 'data.csv' par le chemin de votre fichier de données
df = pd.read_csv('data.csv')

# Afficher les premières lignes du dataset
print("Aperçu des données :")
print(df.head())

# Analyse descriptive de base
print("\nStatistiques descriptives :")
print(df.describe())

# Vérifier les valeurs manquantes
print("\nValeurs manquantes par colonne :")
print(df.isnull().sum())

# Nettoyage des données (exemple : suppression des valeurs manquantes)
df_clean = df.dropna()

# Analyse de corrélation
print("\nMatrice de corrélation :")
print(df_clean.corr())

# Visualisation de la distribution des données pour une colonne spécifique
plt.figure(figsize=(10, 6))
sns.histplot(df_clean['nom_de_la_colonne'], kde=True)
plt.title('Distribution de la colonne "nom_de_la_colonne"')
plt.xlabel('Valeurs')
plt.ylabel('Fréquence')
plt.show()

# Visualisation des corrélations avec une heatmap
plt.figure(figsize=(12, 8))
sns.heatmap(df_clean.corr(), annot=True, cmap='coolwarm')
plt.title('Heatmap des corrélations')
plt.show()
